{
 "cells": [
  {
   "cell_type": "code",
   "execution_count": 1,
   "metadata": {},
   "outputs": [
    {
     "name": "stdout",
     "output_type": "stream",
     "text": [
      "GPUs:  0\n"
     ]
    }
   ],
   "source": [
    "import numpy as np\n",
    "import json\n",
    "import tensorflow as tf\n",
    "import os\n",
    "\n",
    "import time\n",
    "%matplotlib inline\n",
    "import matplotlib\n",
    "import matplotlib.pyplot as plt\n",
    "import gym\n",
    "\n",
    "import tensorflow as tf\n",
    "\n",
    "gpus = tf.config.experimental.list_physical_devices('GPU')\n",
    "if gpus:\n",
    "  try:\n",
    "    tf.config.experimental.set_virtual_device_configuration(gpus[0], \n",
    "    [tf.config.experimental.VirtualDeviceConfiguration(memory_limit=128)])\n",
    "  except RuntimeError as e:\n",
    "    print(e)\n",
    "    \n",
    "    \n",
    "print(\"GPUs: \", len(tf.config.experimental.list_physical_devices('GPU')))\n",
    "tf.config.experimental.list_logical_devices('GPU')\n",
    "\n",
    "\n",
    "from tf_agents.environments import py_environment\n",
    "from tf_agents.environments import tf_environment\n",
    "from tf_agents.environments import tf_py_environment\n",
    "from tf_agents.environments import utils\n",
    "from tf_agents.specs import array_spec\n",
    "from tf_agents.environments import wrappers\n",
    "from tf_agents.environments import suite_gym\n",
    "from tf_agents.trajectories import time_step as ts\n",
    "from tf_agents.networks.q_network import QNetwork\n",
    "from tf_agents.agents.dqn.dqn_agent import DqnAgent\n",
    "from tf_agents.replay_buffers import tf_uniform_replay_buffer\n",
    "from tf_agents.metrics import tf_metrics\n",
    "from tf_agents.drivers.dynamic_step_driver import DynamicStepDriver\n",
    "from tf_agents.policies.random_tf_policy import RandomTFPolicy\n",
    "from tf_agents.utils.common import function, element_wise_squared_loss\n",
    "from tf_agents.eval.metric_utils import log_metrics\n",
    "import logging\n",
    "\n",
    "import tensorflow.keras as keras\n",
    "\n",
    "tf.compat.v1.enable_v2_behavior()\n",
    "import time\n",
    "import json\n",
    "\n",
    "from my_gym import envs\n",
    "\n",
    "seed=42\n",
    "tf.random.set_seed(seed)\n",
    "np.random.seed(seed)"
   ]
  },
  {
   "cell_type": "code",
   "execution_count": 2,
   "metadata": {},
   "outputs": [],
   "source": [
    "pm=json.load(open(\"/home/pico/uni/romi/gatekeeper_rl_env/params.json\"))"
   ]
  },
  {
   "cell_type": "code",
   "execution_count": 3,
   "metadata": {},
   "outputs": [],
   "source": [
    "#env = gym.make('GatekeeperEnv-v0')\n",
    "env = suite_gym.load('GatekeeperEnv-v0')\n",
    "tf_env = tf_py_environment.TFPyEnvironment(env)"
   ]
  },
  {
   "cell_type": "code",
   "execution_count": 4,
   "metadata": {},
   "outputs": [
    {
     "data": {
      "text/plain": [
       "(BoundedTensorSpec(shape=(2, 2), dtype=tf.float32, name='observation/tuple_0', minimum=array(0., dtype=float32), maximum=array(255., dtype=float32)),\n",
       " BoundedTensorSpec(shape=(), dtype=tf.int64, name='observation/tuple_1', minimum=array(0), maximum=array(15)))"
      ]
     },
     "execution_count": 4,
     "metadata": {},
     "output_type": "execute_result"
    }
   ],
   "source": [
    "tf_env.observation_spec()"
   ]
  },
  {
   "cell_type": "code",
   "execution_count": 5,
   "metadata": {},
   "outputs": [],
   "source": [
    "def image_layers():\n",
    "    input_img = keras.layers.Input(shape=(2,2))\n",
    "    x = keras.layers.Reshape((2,2, 1))(input_img)\n",
    "    #preprocessing = keras.layers.Lambda(lambda x: tf.cast(x, np.float32) / 255.)(input_img)\n",
    "    preprocessing = keras.layers.Lambda(lambda x: x / 255.)(x)\n",
    "    x = keras.layers.Conv2D(filters=pm['model']['conv2d_1_filters'],\n",
    "                            kernel_size=3,\n",
    "                            padding=\"same\",\n",
    "                            activation='relu')(preprocessing)\n",
    "    x = keras.layers.Flatten()(x)\n",
    "    model = keras.models.Model(inputs=input_img,outputs=x)\n",
    "    return model\n",
    "    \n",
    "def input_vect_layers():\n",
    "    input_ = keras.layers.Input(shape=(1,))\n",
    "    preprocessing = keras.layers.Lambda(lambda x: x / 15.)(input_)\n",
    "    #x = keras.layers.Dense(4)(preprocessing)\n",
    "    return keras.models.Model(inputs=input_,outputs=preprocessing)"
   ]
  },
  {
   "cell_type": "code",
   "execution_count": 6,
   "metadata": {},
   "outputs": [
    {
     "name": "stderr",
     "output_type": "stream",
     "text": [
      "WARNING:absl:Beware: Copying a layer that has already been built: 'model'.  This can lead to subtle bugs because the original layer's weights will not be used in the copy.\n",
      "WARNING:absl:Beware: Copying a layer that has already been built: 'model_1'.  This can lead to subtle bugs because the original layer's weights will not be used in the copy.\n"
     ]
    }
   ],
   "source": [
    "#network\n",
    "preprocessing_layers=(image_layers(),input_vect_layers())\n",
    "preprocessing_combiner = tf.keras.layers.Concatenate(axis=-1)\n",
    "fc_layer_params = (pm['model']['fc_layer_params'],)\n",
    "\n",
    "q_net = QNetwork(\n",
    "tf_env.observation_spec(),\n",
    "tf_env.action_spec(),\n",
    "preprocessing_layers=preprocessing_layers,\n",
    "preprocessing_combiner=preprocessing_combiner,\n",
    "fc_layer_params=fc_layer_params)"
   ]
  },
  {
   "cell_type": "code",
   "execution_count": 7,
   "metadata": {},
   "outputs": [
    {
     "name": "stderr",
     "output_type": "stream",
     "text": [
      "WARNING:absl:Beware: Copying a layer that has already been built: 'model'.  This can lead to subtle bugs because the original layer's weights will not be used in the copy.\n",
      "WARNING:absl:Beware: Copying a layer that has already been built: 'model_1'.  This can lead to subtle bugs because the original layer's weights will not be used in the copy.\n"
     ]
    }
   ],
   "source": [
    "#agent\n",
    "train_step = tf.Variable(0)\n",
    "#optimizer = keras.optimizers.RMSprop(lr=2.5e-4, rho=0.95, momentum=0.0,\n",
    "#            epsilon=0.00001, centered=True)\n",
    "optimizer = keras.optimizers.Adam(learning_rate=pm['model']['learning_rate'])\n",
    "\n",
    "epsilon_fn = keras.optimizers.schedules.PolynomialDecay(\n",
    "            initial_learning_rate=1.0, # initial ε\n",
    "            decay_steps = pm['agent']['decay_steps'], \n",
    "            end_learning_rate=0.01) # final ε\n",
    "\n",
    "agent = DqnAgent(tf_env.time_step_spec(),\n",
    "                tf_env.action_spec(),\n",
    "                q_network=q_net,\n",
    "                optimizer=optimizer,\n",
    "                target_update_period=pm['agent']['target_update_period'],\n",
    "                td_errors_loss_fn= element_wise_squared_loss, #keras.losses.Huber(reduction=\"none\"),\n",
    "                gamma=pm['agent']['gamma'], # discount factor\n",
    "                train_step_counter=train_step,\n",
    "                epsilon_greedy=lambda: epsilon_fn(train_step))\n",
    "agent.initialize()\n"
   ]
  },
  {
   "cell_type": "code",
   "execution_count": 8,
   "metadata": {},
   "outputs": [],
   "source": [
    "#Replay buffer\n",
    "replay_buffer = tf_uniform_replay_buffer.TFUniformReplayBuffer(\n",
    "    data_spec= agent.collect_data_spec,\n",
    "    batch_size= tf_env.batch_size,\n",
    "    max_length=pm['rbuffer']['max_length'])"
   ]
  },
  {
   "cell_type": "code",
   "execution_count": 9,
   "metadata": {},
   "outputs": [],
   "source": [
    "#observer\n",
    "#observer is just a function (or a callable object) that takes a trajectory argument,\n",
    "#add_method() method (bound to the replay_buffer object) can be used as observer\n",
    "replay_buffer_observer = replay_buffer.add_batch"
   ]
  },
  {
   "cell_type": "code",
   "execution_count": 10,
   "metadata": {},
   "outputs": [],
   "source": [
    "#observer for training metrics\n",
    "training_metrics = [\n",
    "tf_metrics.NumberOfEpisodes(),\n",
    "tf_metrics.EnvironmentSteps(),\n",
    "tf_metrics.AverageReturnMetric(),\n",
    "tf_metrics.AverageEpisodeLengthMetric(),\n",
    "]"
   ]
  },
  {
   "cell_type": "code",
   "execution_count": 11,
   "metadata": {},
   "outputs": [],
   "source": [
    "#custom observer\n",
    "class ShowProgress:\n",
    "    def __init__(self, total):\n",
    "        self.counter = 0\n",
    "        self.total = total\n",
    "    def __call__(self, trajectory):\n",
    "        if not trajectory.is_boundary():\n",
    "            self.counter += 1\n",
    "        if self.counter % 100 == 0:\n",
    "            print(\"\\r{}/{}\".format(self.counter, self.total), end=\"\")"
   ]
  },
  {
   "cell_type": "code",
   "execution_count": 12,
   "metadata": {},
   "outputs": [],
   "source": [
    "#Collect Driver\n",
    "update_period = pm['collect_driver']['num_steps'] # train the model every x steps\n",
    "collect_driver = DynamicStepDriver(\n",
    "    tf_env,\n",
    "    agent.collect_policy,\n",
    "    observers=[replay_buffer_observer] + training_metrics,\n",
    "    num_steps=update_period) # collect x steps for each training iteration"
   ]
  },
  {
   "cell_type": "code",
   "execution_count": 13,
   "metadata": {},
   "outputs": [
    {
     "name": "stdout",
     "output_type": "stream",
     "text": [
      "WARNING:tensorflow:From /home/pico/.local/lib/python3.8/site-packages/tf_agents/drivers/dynamic_step_driver.py:196: calling while_loop_v2 (from tensorflow.python.ops.control_flow_ops) with back_prop=False is deprecated and will be removed in a future version.\n",
      "Instructions for updating:\n",
      "back_prop=False is deprecated. Consider using tf.stop_gradient instead.\n",
      "Instead of:\n",
      "results = tf.while_loop(c, b, vars, back_prop=False)\n",
      "Use:\n",
      "results = tf.nest.map_structure(tf.stop_gradient, tf.while_loop(c, b, vars))\n"
     ]
    },
    {
     "name": "stderr",
     "output_type": "stream",
     "text": [
      "WARNING:tensorflow:From /home/pico/.local/lib/python3.8/site-packages/tf_agents/drivers/dynamic_step_driver.py:196: calling while_loop_v2 (from tensorflow.python.ops.control_flow_ops) with back_prop=False is deprecated and will be removed in a future version.\n",
      "Instructions for updating:\n",
      "back_prop=False is deprecated. Consider using tf.stop_gradient instead.\n",
      "Instead of:\n",
      "results = tf.while_loop(c, b, vars, back_prop=False)\n",
      "Use:\n",
      "results = tf.nest.map_structure(tf.stop_gradient, tf.while_loop(c, b, vars))\n"
     ]
    },
    {
     "name": "stdout",
     "output_type": "stream",
     "text": [
      "5000/5000"
     ]
    }
   ],
   "source": [
    "# random policy driver to start filling the buffer\n",
    "random_collect_policy = RandomTFPolicy(tf_env.time_step_spec(),\n",
    "                        tf_env.action_spec())\n",
    "\n",
    "ns = pm['rnd_policy']['num_steps']\n",
    "init_driver = DynamicStepDriver(\n",
    "            tf_env,\n",
    "            random_collect_policy,\n",
    "            observers=[replay_buffer.add_batch, ShowProgress(ns)],\n",
    "            num_steps=ns)\n",
    "            \n",
    "final_time_step, final_policy_state = init_driver.run()"
   ]
  },
  {
   "cell_type": "code",
   "execution_count": 14,
   "metadata": {},
   "outputs": [
    {
     "name": "stdout",
     "output_type": "stream",
     "text": [
      "WARNING:tensorflow:From /home/pico/anaconda3/envs/rl/lib/python3.8/site-packages/tensorflow/python/autograph/operators/control_flow.py:1218: ReplayBuffer.get_next (from tf_agents.replay_buffers.replay_buffer) is deprecated and will be removed in a future version.\n",
      "Instructions for updating:\n",
      "Use `as_dataset(..., single_deterministic_pass=False) instead.\n"
     ]
    },
    {
     "name": "stderr",
     "output_type": "stream",
     "text": [
      "WARNING:tensorflow:From /home/pico/anaconda3/envs/rl/lib/python3.8/site-packages/tensorflow/python/autograph/operators/control_flow.py:1218: ReplayBuffer.get_next (from tf_agents.replay_buffers.replay_buffer) is deprecated and will be removed in a future version.\n",
      "Instructions for updating:\n",
      "Use `as_dataset(..., single_deterministic_pass=False) instead.\n"
     ]
    }
   ],
   "source": [
    "#use buffer as tf API dataset ()\n",
    "dataset = replay_buffer.as_dataset(\n",
    "        sample_batch_size=pm['rbuffer']['sample_batch_size'],\n",
    "        num_steps=2,\n",
    "        num_parallel_calls=3).prefetch(3)"
   ]
  },
  {
   "cell_type": "code",
   "execution_count": 15,
   "metadata": {},
   "outputs": [],
   "source": [
    "#convert main functions to tensorflow functions to speed up training\n",
    "collect_driver.run = function(collect_driver.run)\n",
    "agent.train = function(agent.train)"
   ]
  },
  {
   "cell_type": "code",
   "execution_count": 16,
   "metadata": {},
   "outputs": [],
   "source": [
    "def train_agent(n_iterations):\n",
    "    time_step = None\n",
    "    policy_state = ()#agent.collect_policy.get_initial_state(tf_env.batch_size)\n",
    "    iterator = iter(dataset)\n",
    "    for iteration in range(n_iterations):\n",
    "        time_step, policy_state = collect_driver.run(time_step, policy_state)\n",
    "        trajectories, buffer_info = next(iterator)\n",
    "        train_loss = agent.train(trajectories)\n",
    "        print(\"\\r{} loss:{:.5f}\".format(\n",
    "            iteration, train_loss.loss.numpy()), end=\"\")\n",
    "        #if iteration % 1000 == 0:\n",
    "            #log_metrics(training_metrics)\n",
    "            #print(training_metrics[0].result())\n",
    "            #print(training_metrics[1].result())\n",
    "            #print(training_metrics[2].result())\n",
    "            #print(training_metrics[3].result())"
   ]
  },
  {
   "cell_type": "code",
   "execution_count": 17,
   "metadata": {
    "scrolled": false
   },
   "outputs": [
    {
     "name": "stdout",
     "output_type": "stream",
     "text": [
      "WARNING:tensorflow:From /home/pico/anaconda3/envs/rl/lib/python3.8/site-packages/tensorflow/python/util/dispatch.py:201: calling foldr_v2 (from tensorflow.python.ops.functional_ops) with back_prop=False is deprecated and will be removed in a future version.\n",
      "Instructions for updating:\n",
      "back_prop=False is deprecated. Consider using tf.stop_gradient instead.\n",
      "Instead of:\n",
      "results = tf.foldr(fn, elems, back_prop=False)\n",
      "Use:\n",
      "results = tf.nest.map_structure(tf.stop_gradient, tf.foldr(fn, elems))\n"
     ]
    },
    {
     "name": "stderr",
     "output_type": "stream",
     "text": [
      "WARNING:tensorflow:From /home/pico/anaconda3/envs/rl/lib/python3.8/site-packages/tensorflow/python/util/dispatch.py:201: calling foldr_v2 (from tensorflow.python.ops.functional_ops) with back_prop=False is deprecated and will be removed in a future version.\n",
      "Instructions for updating:\n",
      "back_prop=False is deprecated. Consider using tf.stop_gradient instead.\n",
      "Instead of:\n",
      "results = tf.foldr(fn, elems, back_prop=False)\n",
      "Use:\n",
      "results = tf.nest.map_structure(tf.stop_gradient, tf.foldr(fn, elems))\n"
     ]
    },
    {
     "name": "stdout",
     "output_type": "stream",
     "text": [
      "9999 loss:2.9036981"
     ]
    }
   ],
   "source": [
    "train_agent(10000)"
   ]
  },
  {
   "cell_type": "code",
   "execution_count": null,
   "metadata": {},
   "outputs": [],
   "source": []
  },
  {
   "cell_type": "code",
   "execution_count": 29,
   "metadata": {},
   "outputs": [],
   "source": [
    "#custom observer\n",
    "class testAgent:\n",
    "    def __init__(self):\n",
    "        self.counter = 0\n",
    "    def __call__(self, trajectory):\n",
    "        #if not trajectory.is_boundary():\n",
    "        print(trajectory)\n",
    "        "
   ]
  },
  {
   "cell_type": "code",
   "execution_count": 30,
   "metadata": {},
   "outputs": [
    {
     "data": {
      "text/plain": [
       "<tf.Tensor: shape=(), dtype=int64, numpy=10000>"
      ]
     },
     "execution_count": 30,
     "metadata": {},
     "output_type": "execute_result"
    }
   ],
   "source": [
    "replay_buffer.num_frames()"
   ]
  },
  {
   "cell_type": "code",
   "execution_count": 31,
   "metadata": {},
   "outputs": [
    {
     "name": "stdout",
     "output_type": "stream",
     "text": [
      "[[b'-' b'-' b'D' b'G']\n",
      " [b'-' b'-' b'-' b'R']\n",
      " [b'+' b'-' b'+' b'+']\n",
      " [b'-' b'-' b'-' b'-']]\n"
     ]
    }
   ],
   "source": [
    "test_driver = DynamicStepDriver(\n",
    "    tf_env,\n",
    "    agent.policy,\n",
    "    observers=[testAgent()],\n",
    "    num_steps=1) \n",
    "\n",
    "state = tf_env.reset()\n",
    "print(env.map)"
   ]
  },
  {
   "cell_type": "code",
   "execution_count": 32,
   "metadata": {},
   "outputs": [
    {
     "name": "stdout",
     "output_type": "stream",
     "text": [
      "15\n",
      "Trajectory(step_type=<tf.Tensor: shape=(1,), dtype=int32, numpy=array([0], dtype=int32)>, observation=(<tf.Tensor: shape=(1, 2, 2), dtype=float32, numpy=\n",
      "array([[[255., 255.],\n",
      "        [255., 255.]]], dtype=float32)>, <tf.Tensor: shape=(1,), dtype=int64, numpy=array([15])>), action=<tf.Tensor: shape=(1,), dtype=int64, numpy=array([0])>, policy_info=(), next_step_type=<tf.Tensor: shape=(1,), dtype=int32, numpy=array([1], dtype=int32)>, reward=<tf.Tensor: shape=(1,), dtype=float32, numpy=array([-1.], dtype=float32)>, discount=<tf.Tensor: shape=(1,), dtype=float32, numpy=array([1.], dtype=float32)>)\n",
      "14\n",
      "Trajectory(step_type=<tf.Tensor: shape=(1,), dtype=int32, numpy=array([1], dtype=int32)>, observation=(<tf.Tensor: shape=(1, 2, 2), dtype=float32, numpy=\n",
      "array([[[255., 255.],\n",
      "        [255., 255.]]], dtype=float32)>, <tf.Tensor: shape=(1,), dtype=int64, numpy=array([14])>), action=<tf.Tensor: shape=(1,), dtype=int64, numpy=array([0])>, policy_info=(), next_step_type=<tf.Tensor: shape=(1,), dtype=int32, numpy=array([1], dtype=int32)>, reward=<tf.Tensor: shape=(1,), dtype=float32, numpy=array([-1.], dtype=float32)>, discount=<tf.Tensor: shape=(1,), dtype=float32, numpy=array([1.], dtype=float32)>)\n",
      "13\n",
      "Trajectory(step_type=<tf.Tensor: shape=(1,), dtype=int32, numpy=array([1], dtype=int32)>, observation=(<tf.Tensor: shape=(1, 2, 2), dtype=float32, numpy=\n",
      "array([[[255., 255.],\n",
      "        [255., 255.]]], dtype=float32)>, <tf.Tensor: shape=(1,), dtype=int64, numpy=array([13])>), action=<tf.Tensor: shape=(1,), dtype=int64, numpy=array([0])>, policy_info=(), next_step_type=<tf.Tensor: shape=(1,), dtype=int32, numpy=array([1], dtype=int32)>, reward=<tf.Tensor: shape=(1,), dtype=float32, numpy=array([-1.], dtype=float32)>, discount=<tf.Tensor: shape=(1,), dtype=float32, numpy=array([1.], dtype=float32)>)\n",
      "12\n",
      "Trajectory(step_type=<tf.Tensor: shape=(1,), dtype=int32, numpy=array([1], dtype=int32)>, observation=(<tf.Tensor: shape=(1, 2, 2), dtype=float32, numpy=\n",
      "array([[[255., 255.],\n",
      "        [255., 255.]]], dtype=float32)>, <tf.Tensor: shape=(1,), dtype=int64, numpy=array([12])>), action=<tf.Tensor: shape=(1,), dtype=int64, numpy=array([3])>, policy_info=(), next_step_type=<tf.Tensor: shape=(1,), dtype=int32, numpy=array([1], dtype=int32)>, reward=<tf.Tensor: shape=(1,), dtype=float32, numpy=array([-1.], dtype=float32)>, discount=<tf.Tensor: shape=(1,), dtype=float32, numpy=array([1.], dtype=float32)>)\n",
      "12\n",
      "Trajectory(step_type=<tf.Tensor: shape=(1,), dtype=int32, numpy=array([1], dtype=int32)>, observation=(<tf.Tensor: shape=(1, 2, 2), dtype=float32, numpy=\n",
      "array([[[255., 255.],\n",
      "        [255., 255.]]], dtype=float32)>, <tf.Tensor: shape=(1,), dtype=int64, numpy=array([12])>), action=<tf.Tensor: shape=(1,), dtype=int64, numpy=array([3])>, policy_info=(), next_step_type=<tf.Tensor: shape=(1,), dtype=int32, numpy=array([1], dtype=int32)>, reward=<tf.Tensor: shape=(1,), dtype=float32, numpy=array([-1.], dtype=float32)>, discount=<tf.Tensor: shape=(1,), dtype=float32, numpy=array([1.], dtype=float32)>)\n",
      "12\n",
      "Trajectory(step_type=<tf.Tensor: shape=(1,), dtype=int32, numpy=array([1], dtype=int32)>, observation=(<tf.Tensor: shape=(1, 2, 2), dtype=float32, numpy=\n",
      "array([[[255., 255.],\n",
      "        [255., 255.]]], dtype=float32)>, <tf.Tensor: shape=(1,), dtype=int64, numpy=array([12])>), action=<tf.Tensor: shape=(1,), dtype=int64, numpy=array([3])>, policy_info=(), next_step_type=<tf.Tensor: shape=(1,), dtype=int32, numpy=array([1], dtype=int32)>, reward=<tf.Tensor: shape=(1,), dtype=float32, numpy=array([-1.], dtype=float32)>, discount=<tf.Tensor: shape=(1,), dtype=float32, numpy=array([1.], dtype=float32)>)\n",
      "12\n",
      "Trajectory(step_type=<tf.Tensor: shape=(1,), dtype=int32, numpy=array([1], dtype=int32)>, observation=(<tf.Tensor: shape=(1, 2, 2), dtype=float32, numpy=\n",
      "array([[[255., 255.],\n",
      "        [255., 255.]]], dtype=float32)>, <tf.Tensor: shape=(1,), dtype=int64, numpy=array([12])>), action=<tf.Tensor: shape=(1,), dtype=int64, numpy=array([3])>, policy_info=(), next_step_type=<tf.Tensor: shape=(1,), dtype=int32, numpy=array([1], dtype=int32)>, reward=<tf.Tensor: shape=(1,), dtype=float32, numpy=array([-1.], dtype=float32)>, discount=<tf.Tensor: shape=(1,), dtype=float32, numpy=array([1.], dtype=float32)>)\n",
      "12\n",
      "Trajectory(step_type=<tf.Tensor: shape=(1,), dtype=int32, numpy=array([1], dtype=int32)>, observation=(<tf.Tensor: shape=(1, 2, 2), dtype=float32, numpy=\n",
      "array([[[255., 255.],\n",
      "        [255., 255.]]], dtype=float32)>, <tf.Tensor: shape=(1,), dtype=int64, numpy=array([12])>), action=<tf.Tensor: shape=(1,), dtype=int64, numpy=array([3])>, policy_info=(), next_step_type=<tf.Tensor: shape=(1,), dtype=int32, numpy=array([1], dtype=int32)>, reward=<tf.Tensor: shape=(1,), dtype=float32, numpy=array([-1.], dtype=float32)>, discount=<tf.Tensor: shape=(1,), dtype=float32, numpy=array([1.], dtype=float32)>)\n",
      "12\n",
      "Trajectory(step_type=<tf.Tensor: shape=(1,), dtype=int32, numpy=array([1], dtype=int32)>, observation=(<tf.Tensor: shape=(1, 2, 2), dtype=float32, numpy=\n",
      "array([[[255., 255.],\n",
      "        [255., 255.]]], dtype=float32)>, <tf.Tensor: shape=(1,), dtype=int64, numpy=array([12])>), action=<tf.Tensor: shape=(1,), dtype=int64, numpy=array([3])>, policy_info=(), next_step_type=<tf.Tensor: shape=(1,), dtype=int32, numpy=array([1], dtype=int32)>, reward=<tf.Tensor: shape=(1,), dtype=float32, numpy=array([-1.], dtype=float32)>, discount=<tf.Tensor: shape=(1,), dtype=float32, numpy=array([1.], dtype=float32)>)\n",
      "12\n",
      "Trajectory(step_type=<tf.Tensor: shape=(1,), dtype=int32, numpy=array([1], dtype=int32)>, observation=(<tf.Tensor: shape=(1, 2, 2), dtype=float32, numpy=\n",
      "array([[[255., 255.],\n",
      "        [255., 255.]]], dtype=float32)>, <tf.Tensor: shape=(1,), dtype=int64, numpy=array([12])>), action=<tf.Tensor: shape=(1,), dtype=int64, numpy=array([3])>, policy_info=(), next_step_type=<tf.Tensor: shape=(1,), dtype=int32, numpy=array([1], dtype=int32)>, reward=<tf.Tensor: shape=(1,), dtype=float32, numpy=array([-1.], dtype=float32)>, discount=<tf.Tensor: shape=(1,), dtype=float32, numpy=array([1.], dtype=float32)>)\n",
      "12\n",
      "Trajectory(step_type=<tf.Tensor: shape=(1,), dtype=int32, numpy=array([1], dtype=int32)>, observation=(<tf.Tensor: shape=(1, 2, 2), dtype=float32, numpy=\n",
      "array([[[255., 255.],\n",
      "        [255., 255.]]], dtype=float32)>, <tf.Tensor: shape=(1,), dtype=int64, numpy=array([12])>), action=<tf.Tensor: shape=(1,), dtype=int64, numpy=array([3])>, policy_info=(), next_step_type=<tf.Tensor: shape=(1,), dtype=int32, numpy=array([1], dtype=int32)>, reward=<tf.Tensor: shape=(1,), dtype=float32, numpy=array([-1.], dtype=float32)>, discount=<tf.Tensor: shape=(1,), dtype=float32, numpy=array([1.], dtype=float32)>)\n",
      "12\n",
      "Trajectory(step_type=<tf.Tensor: shape=(1,), dtype=int32, numpy=array([1], dtype=int32)>, observation=(<tf.Tensor: shape=(1, 2, 2), dtype=float32, numpy=\n",
      "array([[[255., 255.],\n",
      "        [255., 255.]]], dtype=float32)>, <tf.Tensor: shape=(1,), dtype=int64, numpy=array([12])>), action=<tf.Tensor: shape=(1,), dtype=int64, numpy=array([3])>, policy_info=(), next_step_type=<tf.Tensor: shape=(1,), dtype=int32, numpy=array([1], dtype=int32)>, reward=<tf.Tensor: shape=(1,), dtype=float32, numpy=array([-1.], dtype=float32)>, discount=<tf.Tensor: shape=(1,), dtype=float32, numpy=array([1.], dtype=float32)>)\n",
      "12\n",
      "Trajectory(step_type=<tf.Tensor: shape=(1,), dtype=int32, numpy=array([1], dtype=int32)>, observation=(<tf.Tensor: shape=(1, 2, 2), dtype=float32, numpy=\n",
      "array([[[255., 255.],\n",
      "        [255., 255.]]], dtype=float32)>, <tf.Tensor: shape=(1,), dtype=int64, numpy=array([12])>), action=<tf.Tensor: shape=(1,), dtype=int64, numpy=array([3])>, policy_info=(), next_step_type=<tf.Tensor: shape=(1,), dtype=int32, numpy=array([1], dtype=int32)>, reward=<tf.Tensor: shape=(1,), dtype=float32, numpy=array([-1.], dtype=float32)>, discount=<tf.Tensor: shape=(1,), dtype=float32, numpy=array([1.], dtype=float32)>)\n",
      "12\n",
      "Trajectory(step_type=<tf.Tensor: shape=(1,), dtype=int32, numpy=array([1], dtype=int32)>, observation=(<tf.Tensor: shape=(1, 2, 2), dtype=float32, numpy=\n",
      "array([[[255., 255.],\n",
      "        [255., 255.]]], dtype=float32)>, <tf.Tensor: shape=(1,), dtype=int64, numpy=array([12])>), action=<tf.Tensor: shape=(1,), dtype=int64, numpy=array([3])>, policy_info=(), next_step_type=<tf.Tensor: shape=(1,), dtype=int32, numpy=array([1], dtype=int32)>, reward=<tf.Tensor: shape=(1,), dtype=float32, numpy=array([-1.], dtype=float32)>, discount=<tf.Tensor: shape=(1,), dtype=float32, numpy=array([1.], dtype=float32)>)\n",
      "12\n",
      "Trajectory(step_type=<tf.Tensor: shape=(1,), dtype=int32, numpy=array([1], dtype=int32)>, observation=(<tf.Tensor: shape=(1, 2, 2), dtype=float32, numpy=\n",
      "array([[[255., 255.],\n",
      "        [255., 255.]]], dtype=float32)>, <tf.Tensor: shape=(1,), dtype=int64, numpy=array([12])>), action=<tf.Tensor: shape=(1,), dtype=int64, numpy=array([3])>, policy_info=(), next_step_type=<tf.Tensor: shape=(1,), dtype=int32, numpy=array([1], dtype=int32)>, reward=<tf.Tensor: shape=(1,), dtype=float32, numpy=array([-1.], dtype=float32)>, discount=<tf.Tensor: shape=(1,), dtype=float32, numpy=array([1.], dtype=float32)>)\n",
      "12\n",
      "Trajectory(step_type=<tf.Tensor: shape=(1,), dtype=int32, numpy=array([1], dtype=int32)>, observation=(<tf.Tensor: shape=(1, 2, 2), dtype=float32, numpy=\n",
      "array([[[255., 255.],\n",
      "        [255., 255.]]], dtype=float32)>, <tf.Tensor: shape=(1,), dtype=int64, numpy=array([12])>), action=<tf.Tensor: shape=(1,), dtype=int64, numpy=array([3])>, policy_info=(), next_step_type=<tf.Tensor: shape=(1,), dtype=int32, numpy=array([1], dtype=int32)>, reward=<tf.Tensor: shape=(1,), dtype=float32, numpy=array([-1.], dtype=float32)>, discount=<tf.Tensor: shape=(1,), dtype=float32, numpy=array([1.], dtype=float32)>)\n",
      "12\n",
      "Trajectory(step_type=<tf.Tensor: shape=(1,), dtype=int32, numpy=array([1], dtype=int32)>, observation=(<tf.Tensor: shape=(1, 2, 2), dtype=float32, numpy=\n",
      "array([[[255., 255.],\n",
      "        [255., 255.]]], dtype=float32)>, <tf.Tensor: shape=(1,), dtype=int64, numpy=array([12])>), action=<tf.Tensor: shape=(1,), dtype=int64, numpy=array([3])>, policy_info=(), next_step_type=<tf.Tensor: shape=(1,), dtype=int32, numpy=array([1], dtype=int32)>, reward=<tf.Tensor: shape=(1,), dtype=float32, numpy=array([-1.], dtype=float32)>, discount=<tf.Tensor: shape=(1,), dtype=float32, numpy=array([1.], dtype=float32)>)\n",
      "12\n",
      "Trajectory(step_type=<tf.Tensor: shape=(1,), dtype=int32, numpy=array([1], dtype=int32)>, observation=(<tf.Tensor: shape=(1, 2, 2), dtype=float32, numpy=\n",
      "array([[[255., 255.],\n",
      "        [255., 255.]]], dtype=float32)>, <tf.Tensor: shape=(1,), dtype=int64, numpy=array([12])>), action=<tf.Tensor: shape=(1,), dtype=int64, numpy=array([3])>, policy_info=(), next_step_type=<tf.Tensor: shape=(1,), dtype=int32, numpy=array([1], dtype=int32)>, reward=<tf.Tensor: shape=(1,), dtype=float32, numpy=array([-1.], dtype=float32)>, discount=<tf.Tensor: shape=(1,), dtype=float32, numpy=array([1.], dtype=float32)>)\n",
      "12\n",
      "Trajectory(step_type=<tf.Tensor: shape=(1,), dtype=int32, numpy=array([1], dtype=int32)>, observation=(<tf.Tensor: shape=(1, 2, 2), dtype=float32, numpy=\n",
      "array([[[255., 255.],\n",
      "        [255., 255.]]], dtype=float32)>, <tf.Tensor: shape=(1,), dtype=int64, numpy=array([12])>), action=<tf.Tensor: shape=(1,), dtype=int64, numpy=array([3])>, policy_info=(), next_step_type=<tf.Tensor: shape=(1,), dtype=int32, numpy=array([1], dtype=int32)>, reward=<tf.Tensor: shape=(1,), dtype=float32, numpy=array([-1.], dtype=float32)>, discount=<tf.Tensor: shape=(1,), dtype=float32, numpy=array([1.], dtype=float32)>)\n",
      "12\n",
      "Trajectory(step_type=<tf.Tensor: shape=(1,), dtype=int32, numpy=array([1], dtype=int32)>, observation=(<tf.Tensor: shape=(1, 2, 2), dtype=float32, numpy=\n",
      "array([[[255., 255.],\n",
      "        [255., 255.]]], dtype=float32)>, <tf.Tensor: shape=(1,), dtype=int64, numpy=array([12])>), action=<tf.Tensor: shape=(1,), dtype=int64, numpy=array([3])>, policy_info=(), next_step_type=<tf.Tensor: shape=(1,), dtype=int32, numpy=array([1], dtype=int32)>, reward=<tf.Tensor: shape=(1,), dtype=float32, numpy=array([-1.], dtype=float32)>, discount=<tf.Tensor: shape=(1,), dtype=float32, numpy=array([1.], dtype=float32)>)\n",
      "12\n"
     ]
    }
   ],
   "source": [
    "print(state.observation[1].numpy()[0])\n",
    "for i in range(20):\n",
    "    state,_ = test_driver.run(state)\n",
    "    print(state.observation[1].numpy()[0])\n",
    "    if state.step_type.numpy()[0] == 2:\n",
    "        break"
   ]
  },
  {
   "cell_type": "code",
   "execution_count": null,
   "metadata": {},
   "outputs": [],
   "source": []
  },
  {
   "cell_type": "code",
   "execution_count": 21,
   "metadata": {},
   "outputs": [
    {
     "name": "stdout",
     "output_type": "stream",
     "text": [
      "TimeStep(step_type=<tf.Tensor: shape=(1,), dtype=int32, numpy=array([1], dtype=int32)>, reward=<tf.Tensor: shape=(1,), dtype=float32, numpy=array([-1.], dtype=float32)>, discount=<tf.Tensor: shape=(1,), dtype=float32, numpy=array([1.], dtype=float32)>, observation=(<tf.Tensor: shape=(1, 2, 2), dtype=float32, numpy=\n",
      "array([[[255., 255.],\n",
      "        [255., 255.]]], dtype=float32)>, <tf.Tensor: shape=(1,), dtype=int64, numpy=array([12])>))\n"
     ]
    }
   ],
   "source": [
    "state,_ = test_driver.run(state)\n",
    "print(state)"
   ]
  },
  {
   "cell_type": "code",
   "execution_count": 22,
   "metadata": {},
   "outputs": [
    {
     "data": {
      "text/plain": [
       "<tf.Variable 'Variable:0' shape=() dtype=int32, numpy=10000>"
      ]
     },
     "execution_count": 22,
     "metadata": {},
     "output_type": "execute_result"
    }
   ],
   "source": [
    "agent.train_step_counter"
   ]
  },
  {
   "cell_type": "code",
   "execution_count": 23,
   "metadata": {},
   "outputs": [
    {
     "data": {
      "text/plain": [
       "TimeStep(step_type=<tf.Tensor: shape=(1,), dtype=int32, numpy=array([0], dtype=int32)>, reward=<tf.Tensor: shape=(1,), dtype=float32, numpy=array([0.], dtype=float32)>, discount=<tf.Tensor: shape=(1,), dtype=float32, numpy=array([1.], dtype=float32)>, observation=(<tf.Tensor: shape=(1, 2, 2), dtype=float32, numpy=\n",
       "array([[[255., 255.],\n",
       "        [255., 255.]]], dtype=float32)>, <tf.Tensor: shape=(1,), dtype=int64, numpy=array([15])>))"
      ]
     },
     "execution_count": 23,
     "metadata": {},
     "output_type": "execute_result"
    }
   ],
   "source": [
    "tf_env.reset()"
   ]
  },
  {
   "cell_type": "code",
   "execution_count": 24,
   "metadata": {},
   "outputs": [
    {
     "data": {
      "text/plain": [
       "TimeStep(step_type=<tf.Tensor: shape=(1,), dtype=int32, numpy=array([1], dtype=int32)>, reward=<tf.Tensor: shape=(1,), dtype=float32, numpy=array([-1.], dtype=float32)>, discount=<tf.Tensor: shape=(1,), dtype=float32, numpy=array([1.], dtype=float32)>, observation=(<tf.Tensor: shape=(1, 2, 2), dtype=float32, numpy=\n",
       "array([[[255., 255.],\n",
       "        [255., 255.]]], dtype=float32)>, <tf.Tensor: shape=(1,), dtype=int64, numpy=array([15])>))"
      ]
     },
     "execution_count": 24,
     "metadata": {},
     "output_type": "execute_result"
    }
   ],
   "source": [
    "tf_env.step(2)"
   ]
  },
  {
   "cell_type": "code",
   "execution_count": null,
   "metadata": {},
   "outputs": [],
   "source": []
  },
  {
   "cell_type": "code",
   "execution_count": null,
   "metadata": {},
   "outputs": [],
   "source": []
  }
 ],
 "metadata": {
  "kernelspec": {
   "display_name": "rl",
   "language": "python",
   "name": "rl"
  },
  "language_info": {
   "codemirror_mode": {
    "name": "ipython",
    "version": 3
   },
   "file_extension": ".py",
   "mimetype": "text/x-python",
   "name": "python",
   "nbconvert_exporter": "python",
   "pygments_lexer": "ipython3",
   "version": "3.8.8"
  }
 },
 "nbformat": 4,
 "nbformat_minor": 4
}
