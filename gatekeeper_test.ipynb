{
 "cells": [
  {
   "cell_type": "code",
   "execution_count": null,
   "metadata": {},
   "outputs": [],
   "source": [
    "import numpy as np\n",
    "import json\n",
    "import tensorflow as tf\n",
    "import os\n",
    "\n",
    "import time\n",
    "%matplotlib inline\n",
    "import matplotlib\n",
    "import matplotlib.pyplot as plt\n",
    "import gym\n",
    "\n",
    "import tensorflow as tf\n",
    "\n",
    "gpus = tf.config.experimental.list_physical_devices('GPU')\n",
    "if gpus:\n",
    "  try:\n",
    "    tf.config.experimental.set_virtual_device_configuration(gpus[0], \n",
    "    [tf.config.experimental.VirtualDeviceConfiguration(memory_limit=2048)])\n",
    "  except RuntimeError as e:\n",
    "    print(e)\n",
    "    \n",
    "    \n",
    "print(\"GPUs: \", len(tf.config.experimental.list_physical_devices('GPU')))\n",
    "tf.config.experimental.list_logical_devices('GPU')\n",
    "\n",
    "\n",
    "from tf_agents.environments import py_environment\n",
    "from tf_agents.environments import tf_environment\n",
    "from tf_agents.environments import tf_py_environment\n",
    "from tf_agents.environments import utils\n",
    "from tf_agents.specs import array_spec\n",
    "from tf_agents.environments import wrappers\n",
    "from tf_agents.environments import suite_gym\n",
    "from tf_agents.trajectories import time_step as ts\n",
    "from tf_agents.networks.q_network import QNetwork\n",
    "from tf_agents.agents.dqn.dqn_agent import DqnAgent\n",
    "from tf_agents.replay_buffers import tf_uniform_replay_buffer\n",
    "from tf_agents.metrics import tf_metrics\n",
    "from tf_agents.drivers.dynamic_step_driver import DynamicStepDriver\n",
    "from tf_agents.policies.random_tf_policy import RandomTFPolicy\n",
    "from tf_agents.utils.common import function\n",
    "from tf_agents.eval.metric_utils import log_metrics\n",
    "import logging\n",
    "\n",
    "\n",
    "import tensorflow.keras as keras\n",
    "\n",
    "tf.compat.v1.enable_v2_behavior()\n",
    "import time\n",
    "\n",
    "from my_gym import envs"
   ]
  },
  {
   "cell_type": "code",
   "execution_count": null,
   "metadata": {},
   "outputs": [],
   "source": [
    "#env = gym.make('GatekeeperEnv-v0')\n",
    "env = suite_gym.load('GatekeeperEnv-v0')\n",
    "tf_env = tf_py_environment.TFPyEnvironment(env)"
   ]
  },
  {
   "cell_type": "code",
   "execution_count": null,
   "metadata": {},
   "outputs": [],
   "source": [
    "tf_env.observation_spec()"
   ]
  },
  {
   "cell_type": "code",
   "execution_count": null,
   "metadata": {},
   "outputs": [],
   "source": [
    "def image_layers():\n",
    "    input_img = keras.layers.Input(shape=(2,2))\n",
    "    x = keras.layers.Reshape((2,2, 1))(input_img)\n",
    "    #preprocessing = keras.layers.Lambda(lambda x: tf.cast(x, np.float32) / 255.)(input_img)\n",
    "    preprocessing = keras.layers.Lambda(lambda x: x / 255.)(x)\n",
    "    x = keras.layers.Conv2D(filters=4,\n",
    "                            kernel_size=3,\n",
    "                            padding=\"same\",\n",
    "                            activation='relu')(preprocessing)\n",
    "    x = keras.layers.Flatten()(x)\n",
    "    model = keras.models.Model(inputs=input_img,outputs=x)\n",
    "    return model\n",
    "    \n",
    "def input_vect_layers():\n",
    "    input_ = keras.layers.Input(shape=(1,))\n",
    "    preprocessing = keras.layers.Lambda(lambda x: x / 15.)(input_)\n",
    "    return keras.models.Model(inputs=input_,outputs=preprocessing)"
   ]
  },
  {
   "cell_type": "code",
   "execution_count": null,
   "metadata": {},
   "outputs": [],
   "source": [
    "#network\n",
    "preprocessing_layers=(image_layers(),input_vect_layers())\n",
    "preprocessing_combiner = tf.keras.layers.Concatenate(axis=-1)\n",
    "fc_layer_params = (30,)\n",
    "\n",
    "q_net = QNetwork(\n",
    "tf_env.observation_spec(),\n",
    "tf_env.action_spec(),\n",
    "preprocessing_layers=preprocessing_layers,\n",
    "preprocessing_combiner=preprocessing_combiner,\n",
    "fc_layer_params=fc_layer_params)"
   ]
  },
  {
   "cell_type": "code",
   "execution_count": null,
   "metadata": {},
   "outputs": [],
   "source": [
    "#agent\n",
    "train_step = tf.Variable(0)\n",
    "update_period = 8 # train the model every x steps\n",
    "optimizer = keras.optimizers.RMSprop(lr=2.5e-4, rho=0.95, momentum=0.0,\n",
    "            epsilon=0.00001, centered=True)\n",
    "\n",
    "epsilon_fn = keras.optimizers.schedules.PolynomialDecay(\n",
    "            initial_learning_rate=1.0, # initial ε\n",
    "            decay_steps=10000 // update_period, \n",
    "            end_learning_rate=0.01) # final ε\n",
    "\n",
    "agent = DqnAgent(tf_env.time_step_spec(),\n",
    "                tf_env.action_spec(),\n",
    "                q_network=q_net,\n",
    "                optimizer=optimizer,\n",
    "                target_update_period=16,\n",
    "                td_errors_loss_fn=keras.losses.Huber(reduction=\"none\"),\n",
    "                gamma=0.99, # discount factor\n",
    "                train_step_counter=train_step,\n",
    "                epsilon_greedy=lambda: epsilon_fn(train_step))\n",
    "agent.initialize()\n"
   ]
  },
  {
   "cell_type": "code",
   "execution_count": null,
   "metadata": {},
   "outputs": [],
   "source": [
    "#Replay buffer\n",
    "replay_buffer = tf_uniform_replay_buffer.TFUniformReplayBuffer(\n",
    "    data_spec= agent.collect_data_spec,\n",
    "    batch_size= tf_env.batch_size,\n",
    "    max_length=10000)"
   ]
  },
  {
   "cell_type": "code",
   "execution_count": null,
   "metadata": {},
   "outputs": [],
   "source": [
    "#observer\n",
    "#observer is just a function (or a callable object) that takes a trajectory argument,\n",
    "#add_method() method (bound to the replay_buffer object) can be used as observer\n",
    "replay_buffer_observer = replay_buffer.add_batch"
   ]
  },
  {
   "cell_type": "code",
   "execution_count": null,
   "metadata": {},
   "outputs": [],
   "source": [
    "#observer for training metrics\n",
    "training_metrics = [\n",
    "tf_metrics.NumberOfEpisodes(),\n",
    "tf_metrics.EnvironmentSteps(),\n",
    "tf_metrics.AverageReturnMetric(),\n",
    "tf_metrics.AverageEpisodeLengthMetric(),\n",
    "]"
   ]
  },
  {
   "cell_type": "code",
   "execution_count": null,
   "metadata": {},
   "outputs": [],
   "source": [
    "#custom observer\n",
    "class ShowProgress:\n",
    "    def __init__(self, total):\n",
    "        self.counter = 0\n",
    "        self.total = total\n",
    "    def __call__(self, trajectory):\n",
    "        if not trajectory.is_boundary():\n",
    "            self.counter += 1\n",
    "        if self.counter % 100 == 0:\n",
    "            print(\"\\r{}/{}\".format(self.counter, self.total), end=\"\")"
   ]
  },
  {
   "cell_type": "code",
   "execution_count": null,
   "metadata": {},
   "outputs": [],
   "source": [
    "#Collect Driver\n",
    "collect_driver = DynamicStepDriver(\n",
    "    tf_env,\n",
    "    agent.collect_policy,\n",
    "    observers=[replay_buffer_observer] + training_metrics,\n",
    "    num_steps=update_period) # collect x steps for each training iteration"
   ]
  },
  {
   "cell_type": "code",
   "execution_count": null,
   "metadata": {},
   "outputs": [],
   "source": [
    "# random policy driver to start filling the buffer\n",
    "random_collect_policy = RandomTFPolicy(tf_env.time_step_spec(),\n",
    "                        tf_env.action_spec())\n",
    "\n",
    "init_driver = DynamicStepDriver(\n",
    "            tf_env,\n",
    "            random_collect_policy,\n",
    "            observers=[replay_buffer.add_batch, ShowProgress(5000)],\n",
    "            num_steps=5000)\n",
    "            \n",
    "final_time_step, final_policy_state = init_driver.run()"
   ]
  },
  {
   "cell_type": "code",
   "execution_count": null,
   "metadata": {},
   "outputs": [],
   "source": [
    "#use buffer as tf API dataset ()\n",
    "dataset = replay_buffer.as_dataset(\n",
    "        sample_batch_size=16,\n",
    "        num_steps=2,\n",
    "        num_parallel_calls=3).prefetch(3)"
   ]
  },
  {
   "cell_type": "code",
   "execution_count": null,
   "metadata": {},
   "outputs": [],
   "source": [
    "#convert main functions to tensorflow functions to speed up training\n",
    "collect_driver.run = function(collect_driver.run)\n",
    "agent.train = function(agent.train)"
   ]
  },
  {
   "cell_type": "code",
   "execution_count": null,
   "metadata": {},
   "outputs": [],
   "source": [
    "def train_agent(n_iterations):\n",
    "    time_step = None\n",
    "    policy_state = ()#agent.collect_policy.get_initial_state(tf_env.batch_size)\n",
    "    iterator = iter(dataset)\n",
    "    for iteration in range(n_iterations):\n",
    "        time_step, policy_state = collect_driver.run(time_step, policy_state)\n",
    "        trajectories, buffer_info = next(iterator)\n",
    "        train_loss = agent.train(trajectories)\n",
    "        print(\"\\r{} loss:{:.5f}\".format(\n",
    "            iteration, train_loss.loss.numpy()), end=\"\")\n",
    "        if iteration % 1000 == 0:\n",
    "            #log_metrics(training_metrics)\n",
    "            print(training_metrics[0].result())\n",
    "            print(training_metrics[1].result())\n",
    "            print(training_metrics[2].result())\n",
    "            print(training_metrics[3].result())"
   ]
  },
  {
   "cell_type": "code",
   "execution_count": null,
   "metadata": {
    "scrolled": false
   },
   "outputs": [],
   "source": [
    "train_agent(50000)"
   ]
  },
  {
   "cell_type": "code",
   "execution_count": null,
   "metadata": {},
   "outputs": [],
   "source": [
    "log_metrics"
   ]
  },
  {
   "cell_type": "code",
   "execution_count": null,
   "metadata": {},
   "outputs": [],
   "source": [
    "print(training_metrics[2].result())"
   ]
  },
  {
   "cell_type": "code",
   "execution_count": null,
   "metadata": {},
   "outputs": [],
   "source": []
  },
  {
   "cell_type": "code",
   "execution_count": null,
   "metadata": {},
   "outputs": [],
   "source": []
  },
  {
   "cell_type": "code",
   "execution_count": null,
   "metadata": {},
   "outputs": [],
   "source": []
  }
 ],
 "metadata": {
  "kernelspec": {
   "display_name": "rl",
   "language": "python",
   "name": "rl"
  },
  "language_info": {
   "codemirror_mode": {
    "name": "ipython",
    "version": 3
   },
   "file_extension": ".py",
   "mimetype": "text/x-python",
   "name": "python",
   "nbconvert_exporter": "python",
   "pygments_lexer": "ipython3",
   "version": "3.8.8"
  }
 },
 "nbformat": 4,
 "nbformat_minor": 4
}
